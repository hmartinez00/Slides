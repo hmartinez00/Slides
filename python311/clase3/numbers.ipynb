{
 "cells": [
  {
   "cell_type": "markdown",
   "metadata": {},
   "source": [
    "# Clase 3 - \"Numbers\""
   ]
  },
  {
   "cell_type": "markdown",
   "metadata": {},
   "source": [
    "## 1. Construcción\n",
    "\n",
    "En Python los cadenas se construyen de maneras muy sencilla:"
   ]
  },
  {
   "cell_type": "code",
   "execution_count": 7,
   "metadata": {},
   "outputs": [
    {
     "name": "stdout",
     "output_type": "stream",
     "text": [
      "Este número es entero:\t\t5\t<class 'int'>\n",
      "Este número es flotante:\t5.5\t<class 'float'>\n",
      "Este número es entero:\t\t(4+2j)\t<class 'complex'>\n",
      "\n"
     ]
    }
   ],
   "source": [
    "x = 5\n",
    "y = 5.5\n",
    "z = 4 + 2j\n",
    "\n",
    "print(f'''\\\n",
    "Este número es entero:\\t\\t{x}\\t{type(x)}\n",
    "Este número es flotante:\\t{y}\\t{type(y)}\n",
    "Este número es entero:\\t\\t{z}\\t{type(z)}\n",
    "''')"
   ]
  },
  {
   "cell_type": "markdown",
   "metadata": {},
   "source": [
    "## 2. Operaciones con números\n",
    "\n",
    "En Python, se pueden ejecutar una amplia variedad de operaciones con números. Algunas de las operaciones más comunes incluyen:"
   ]
  },
  {
   "cell_type": "markdown",
   "metadata": {},
   "source": [
    "### 2.1. Operaciones aritméticas básicas:\n",
    "   - Suma (+)\n",
    "   - Resta (-)\n",
    "   - Multiplicación (*)\n",
    "   - División (/)\n",
    "   - División entera (//)\n",
    "   - Módulo (%)\n",
    "   - Exponente (**)"
   ]
  },
  {
   "cell_type": "code",
   "execution_count": 9,
   "metadata": {},
   "outputs": [
    {
     "name": "stdout",
     "output_type": "stream",
     "text": [
      "Suma de 5 y 3: 8\n",
      "Resta de 10 y 7: 3\n",
      "Multiplicación de 4 y 6: 24\n",
      "División de 10 entre 2: 5.0\n",
      "División entera de 10 entre 3: 3\n",
      "Módulo de 10 entre 3: 1\n",
      "2 elevado a la potencia 3: 8\n"
     ]
    }
   ],
   "source": [
    "# 1. Suma (+)\n",
    "a = 5\n",
    "b = 3\n",
    "sum_result = a + b\n",
    "print(f\"Suma de {a} y {b}: {sum_result}\")\n",
    " # 2. Resta (-)\n",
    "a = 10\n",
    "b = 7\n",
    "subtraction_result = a - b\n",
    "print(f\"Resta de {a} y {b}: {subtraction_result}\")\n",
    " # 3. Multiplicación (*)\n",
    "a = 4\n",
    "b = 6\n",
    "multiplication_result = a * b\n",
    "print(f\"Multiplicación de {a} y {b}: {multiplication_result}\")\n",
    " # 4. División (/)\n",
    "a = 10\n",
    "b = 2\n",
    "division_result = a / b\n",
    "print(f\"División de {a} entre {b}: {division_result}\")\n",
    " # 5. División entera (//)\n",
    "a = 10\n",
    "b = 3\n",
    "integer_division_result = a // b\n",
    "print(f\"División entera de {a} entre {b}: {integer_division_result}\")\n",
    " # 6. Módulo (%)\n",
    "a = 10\n",
    "b = 3\n",
    "modulo_result = a % b\n",
    "print(f\"Módulo de {a} entre {b}: {modulo_result}\")\n",
    " # 7. Exponente (**)\n",
    "a = 2\n",
    "b = 3\n",
    "exponentiation_result = a ** b\n",
    "print(f\"{a} elevado a la potencia {b}: {exponentiation_result}\")"
   ]
  },
  {
   "cell_type": "markdown",
   "metadata": {},
   "source": [
    "### 2.2. Operaciones de comparación:\n",
    "   - Igualdad (==)\n",
    "   - Desigualdad (!=)\n",
    "   - Mayor que (>)\n",
    "   - Menor que (<)\n",
    "   - Mayor o igual que (>=)\n",
    "   - Menor o igual que (<=)"
   ]
  },
  {
   "cell_type": "code",
   "execution_count": 10,
   "metadata": {},
   "outputs": [
    {
     "name": "stdout",
     "output_type": "stream",
     "text": [
      "¿5 es igual a 5?: True\n",
      "¿4 es diferente de 7?: True\n",
      "¿8 es mayor que 5?: True\n",
      "¿3 es menor que 6?: True\n",
      "¿7 es mayor o igual que 7?: True\n",
      "¿5 es menor o igual que 7?: True\n"
     ]
    }
   ],
   "source": [
    " # 8. Igualdad (==)\n",
    "a = 5\n",
    "b = 5\n",
    "equality_result = a == b\n",
    "print(f\"¿{a} es igual a {b}?: {equality_result}\")\n",
    " # 9. Desigualdad (!=)\n",
    "a = 4\n",
    "b = 7\n",
    "inequality_result = a != b\n",
    "print(f\"¿{a} es diferente de {b}?: {inequality_result}\")\n",
    " # 10. Mayor que (>)\n",
    "a = 8\n",
    "b = 5\n",
    "greater_than_result = a > b\n",
    "print(f\"¿{a} es mayor que {b}?: {greater_than_result}\")\n",
    " # 11. Menor que (<)\n",
    "a = 3\n",
    "b = 6\n",
    "less_than_result = a < b\n",
    "print(f\"¿{a} es menor que {b}?: {less_than_result}\")\n",
    " # 12. Mayor o igual que (>=)\n",
    "a = 7\n",
    "b = 7\n",
    "greater_than_or_equal_result = a >= b\n",
    "print(f\"¿{a} es mayor o igual que {b}?: {greater_than_or_equal_result}\")\n",
    " # 13. Menor o igual que (<=)\n",
    "a = 5\n",
    "b = 7\n",
    "less_than_or_equal_result = a <= b\n",
    "print(f\"¿{a} es menor o igual que {b}?: {less_than_or_equal_result}\")"
   ]
  },
  {
   "cell_type": "markdown",
   "metadata": {},
   "source": [
    "###  2.3. Operaciones lógicas:\n",
    "   - Y lógico (and)\n",
    "   - O lógico (or)\n",
    "   - Negación lógica (not)"
   ]
  },
  {
   "cell_type": "code",
   "execution_count": 11,
   "metadata": {},
   "outputs": [
    {
     "name": "stdout",
     "output_type": "stream",
     "text": [
      "¿True y False son ambos verdaderos?: False\n",
      "¿True o False es verdadero?: True\n",
      "¿No es True?: False\n"
     ]
    }
   ],
   "source": [
    " # 14. Y lógico (and)\n",
    "a = True\n",
    "b = False\n",
    "logical_and_result = a and b\n",
    "print(f\"¿{a} y {b} son ambos verdaderos?: {logical_and_result}\")\n",
    " # 15. O lógico (or)\n",
    "a = True\n",
    "b = False\n",
    "logical_or_result = a or b\n",
    "print(f\"¿{a} o {b} es verdadero?: {logical_or_result}\")\n",
    " # 16. Negación lógica (not)\n",
    "a = True\n",
    "logical_not_result = not a\n",
    "print(f\"¿No es {a}?: {logical_not_result}\")"
   ]
  },
  {
   "cell_type": "markdown",
   "metadata": {},
   "source": [
    "###  2.4. Operaciones de asignación:\n",
    "   - Asignación (=)\n",
    "   - Asignación con suma (+=)\n",
    "   - Asignación con resta (-=)\n",
    "   - Asignación con multiplicación (*=)\n",
    "   - Asignación con división (/=)\n",
    "   - Asignación con división entera (//=)\n",
    "   - Asignación con módulo (%=)\n",
    "   - Asignación con exponente (**=)"
   ]
  },
  {
   "cell_type": "code",
   "execution_count": 8,
   "metadata": {},
   "outputs": [
    {
     "name": "stdout",
     "output_type": "stream",
     "text": [
      "Suma de 5 y 3: 8\n",
      "Resta de 10 y 7: 3\n",
      "Multiplicación de 4 y 6: 24\n",
      "División de 10 entre 2: 5.0\n",
      "División entera de 10 entre 3: 3\n",
      "Módulo de 10 entre 3: 1\n",
      "2 elevado a la potencia 3: 8\n",
      "¿5 es igual a 5?: True\n",
      "¿4 es diferente de 7?: True\n",
      "¿8 es mayor que 5?: True\n",
      "¿3 es menor que 6?: True\n",
      "¿7 es mayor o igual que 7?: True\n",
      "¿5 es menor o igual que 7?: True\n",
      "¿True y False son ambos verdaderos?: False\n",
      "¿True o False es verdadero?: True\n",
      "¿No es True?: False\n",
      "Valor de a: 5\n",
      "Valor de a después de sumar 3: 8\n",
      "Valor de a después de restar 4: 6\n",
      "Valor de a después de multiplicar por 5: 15\n",
      "Valor de a después de dividir por 2: 5.0\n",
      "Valor de a después de dividir entero por 3: 3\n",
      "Valor de a después de aplicar módulo 3: 1\n",
      "Valor de a después de elevar a la potencia 3: 8\n"
     ]
    }
   ],
   "source": [
    " # 17. Asignación (=)\n",
    "a = 5\n",
    "print(f\"Valor de a: {a}\")\n",
    " # 18. Asignación con suma (+=)\n",
    "a = 5\n",
    "a += 3\n",
    "print(f\"Valor de a después de sumar 3: {a}\")\n",
    " # 19. Asignación con resta (-=)\n",
    "a = 10\n",
    "a -= 4\n",
    "print(f\"Valor de a después de restar 4: {a}\")\n",
    " # 20. Asignación con multiplicación (*=)\n",
    "a = 3\n",
    "a *= 5\n",
    "print(f\"Valor de a después de multiplicar por 5: {a}\")\n",
    " # 21. Asignación con división (/=)\n",
    "a = 10\n",
    "a /= 2\n",
    "print(f\"Valor de a después de dividir por 2: {a}\")\n",
    " # 22. Asignación con división entera (//=)\n",
    "a = 10\n",
    "a //= 3\n",
    "print(f\"Valor de a después de dividir entero por 3: {a}\")\n",
    " # 23. Asignación con módulo (%=)\n",
    "a = 10\n",
    "a %= 3\n",
    "print(f\"Valor de a después de aplicar módulo 3: {a}\")\n",
    " # 24. Asignación con exponente (**=)\n",
    "a = 2\n",
    "a **= 3\n",
    "print(f\"Valor de a después de elevar a la potencia 3: {a}\")"
   ]
  },
  {
   "cell_type": "markdown",
   "metadata": {},
   "source": [
    " Estas son solo algunas de las operaciones básicas que se pueden realizar con números en Python. Además, Python también proporciona módulos y funciones adicionales para realizar operaciones más complejas, como operaciones trigonométricas, logarítmicas, redondeo, etc."
   ]
  },
  {
   "cell_type": "markdown",
   "metadata": {},
   "source": [
    "## 3. Funciones y métodos para interactuar con números\n",
    "\n",
    "### 3.1 Métodos comunes para todos los tipos numéricos: \n",
    "-  abs() : Devuelve el valor absoluto del número. \n",
    "-  round() : Redondea el número al entero más cercano. \n",
    "-  int() : Convierte el número a un entero. \n",
    "-  float() : Convierte el número a un número de punto flotante. \n",
    "-  complex() : Convierte el número a un número complejo. \n",
    "-  divmod(x, y) : Devuelve el cociente y el resto de la división de x entre y como una tupla. \n",
    "-  pow(x, y) : Eleva x a la potencia y. \n",
    "-  max(iterable) : Devuelve el valor máximo en el iterable. \n",
    "-  min(iterable) : Devuelve el valor mínimo en el iterable. \n",
    "-  sum(iterable) : Devuelve la suma de todos los elementos en el iterable. "
   ]
  },
  {
   "cell_type": "code",
   "execution_count": 2,
   "metadata": {},
   "outputs": [
    {
     "name": "stdout",
     "output_type": "stream",
     "text": [
      "Valor absoluto de -10.5: 10.5\n",
      "Número redondeado de -10.5: -10\n",
      "Número entero de -10.5: -10\n",
      "Número de punto flotante de -10: -10.0\n",
      "Número complejo de -10.0 y -10: (-10-10j)\n",
      "Cociente y resto de 10 dividido por 3: (3, 1)\n",
      "2 elevado a la potencia 3: 8\n",
      "Valor máximo: 9\n",
      "Valor mínimo: 1\n",
      "Suma de los elementos: 15\n"
     ]
    }
   ],
   "source": [
    "# Métodos comunes para todos los tipos numéricos\n",
    "num = -10.5\n",
    " # abs(): Devuelve el valor absoluto del número\n",
    "abs_num = abs(num)\n",
    "print(f\"Valor absoluto de {num}: {abs_num}\")\n",
    " # round(): Redondea el número al entero más cercano\n",
    "rounded_num = round(num)\n",
    "print(f\"Número redondeado de {num}: {rounded_num}\")\n",
    " # int(): Convierte el número a un entero\n",
    "int_num = int(num)\n",
    "print(f\"Número entero de {num}: {int_num}\")\n",
    " # float(): Convierte el número a un número de punto flotante\n",
    "float_num = float(int_num)\n",
    "print(f\"Número de punto flotante de {int_num}: {float_num}\")\n",
    " # complex(): Convierte el número a un número complejo\n",
    "complex_num = complex(float_num, int_num)\n",
    "print(f\"Número complejo de {float_num} y {int_num}: {complex_num}\")\n",
    " # divmod(x, y): Devuelve el cociente y el resto de la división de x entre y como una tupla\n",
    "divmod_result = divmod(10, 3)\n",
    "print(f\"Cociente y resto de 10 dividido por 3: {divmod_result}\")\n",
    " # pow(x, y): Eleva x a la potencia y\n",
    "power_result = pow(2, 3)\n",
    "print(f\"2 elevado a la potencia 3: {power_result}\")\n",
    " # max(iterable): Devuelve el valor máximo en el iterable\n",
    "max_value = max([5, 2, 9, 1])\n",
    "print(f\"Valor máximo: {max_value}\")\n",
    " # min(iterable): Devuelve el valor mínimo en el iterable\n",
    "min_value = min([5, 2, 9, 1])\n",
    "print(f\"Valor mínimo: {min_value}\")\n",
    " # sum(iterable): Devuelve la suma de todos los elementos en el iterable\n",
    "sum_result = sum([1, 2, 3, 4, 5])\n",
    "print(f\"Suma de los elementos: {sum_result}\")"
   ]
  },
  {
   "cell_type": "markdown",
   "metadata": {},
   "source": [
    "### 3.2 Métodos específicos para enteros ( int ): \n",
    "-  bit_length() : Devuelve el número mínimo de bits necesarios para representar el entero. \n",
    "-  to_bytes(length, byteorder) : Convierte el entero en una secuencia de bytes. \n",
    "-  from_bytes(bytes, byteorder) : Convierte una secuencia de bytes en un entero. \n",
    "-  conjugate() : Devuelve el conjugado complejo del entero. "
   ]
  },
  {
   "cell_type": "code",
   "execution_count": 3,
   "metadata": {},
   "outputs": [
    {
     "name": "stdout",
     "output_type": "stream",
     "text": [
      "Número mínimo de bits necesarios para representar 10: 4\n",
      "Representación en bytes de 10: b'\\x00\\n'\n",
      "Entero obtenido a partir de la representación en bytes: 10\n"
     ]
    }
   ],
   "source": [
    " # Métodos específicos para enteros (int)\n",
    "integer_num = 10\n",
    " # bit_length(): Devuelve el número mínimo de bits necesarios para representar el entero\n",
    "bit_length = integer_num.bit_length()\n",
    "print(f\"Número mínimo de bits necesarios para representar {integer_num}: {bit_length}\")\n",
    " # to_bytes(length, byteorder): Convierte el entero en una secuencia de bytes\n",
    "bytes_representation = integer_num.to_bytes(2, byteorder='big')\n",
    "print(f\"Representación en bytes de {integer_num}: {bytes_representation}\")\n",
    " # from_bytes(bytes, byteorder): Convierte una secuencia de bytes en un entero\n",
    "integer_from_bytes = int.from_bytes(bytes_representation, byteorder='big')\n",
    "print(f\"Entero obtenido a partir de la representación en bytes: {integer_from_bytes}\")"
   ]
  },
  {
   "cell_type": "markdown",
   "metadata": {},
   "source": [
    "### 3.3 Métodos específicos para números de punto flotante ( float ): \n",
    "-  is_integer() : Comprueba si el número es un entero. \n",
    "-  as_integer_ratio() : Devuelve una tupla que representa el número como una fracción. \n",
    "-  hex() : Devuelve la representación hexadecimal del número. \n",
    "-  is_integer() : Comprueba si el número es un entero. \n",
    "-  as_integer_ratio() : Devuelve una tupla que representa el número como una fracción. \n",
    "-  hex() : Devuelve la representación hexadecimal del número. \n",
    "-  is_integer() : Comprueba si el número es un entero. \n",
    "-  as_integer_ratio() : Devuelve una tupla que representa el número como una fracción. \n",
    "-  hex() : Devuelve la representación hexadecimal del número. "
   ]
  },
  {
   "cell_type": "code",
   "execution_count": 4,
   "metadata": {},
   "outputs": [
    {
     "name": "stdout",
     "output_type": "stream",
     "text": [
      "¿Es 3.14 un número entero?: False\n",
      "Fracción que representa a 3.14: (7070651414971679, 2251799813685248)\n",
      "Representación hexadecimal de 3.14: 0x1.91eb851eb851fp+1\n"
     ]
    }
   ],
   "source": [
    " # Métodos específicos para números de punto flotante (float)\n",
    "float_num = 3.14\n",
    " # is_integer(): Comprueba si el número es un entero\n",
    "is_integer = float_num.is_integer()\n",
    "print(f\"¿Es {float_num} un número entero?: {is_integer}\")\n",
    " # as_integer_ratio(): Devuelve una tupla que representa el número como una fracción\n",
    "fraction = float_num.as_integer_ratio()\n",
    "print(f\"Fracción que representa a {float_num}: {fraction}\")\n",
    " # hex(): Devuelve la representación hexadecimal del número\n",
    "hex_representation = float_num.hex()\n",
    "print(f\"Representación hexadecimal de {float_num}: {hex_representation}\")"
   ]
  }
 ],
 "metadata": {
  "kernelspec": {
   "display_name": "Python 3",
   "language": "python",
   "name": "python3"
  },
  "language_info": {
   "codemirror_mode": {
    "name": "ipython",
    "version": 3
   },
   "file_extension": ".py",
   "mimetype": "text/x-python",
   "name": "python",
   "nbconvert_exporter": "python",
   "pygments_lexer": "ipython3",
   "version": "3.11.4"
  },
  "orig_nbformat": 4
 },
 "nbformat": 4,
 "nbformat_minor": 2
}
