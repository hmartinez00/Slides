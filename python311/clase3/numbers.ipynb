{
 "cells": [
  {
   "cell_type": "markdown",
   "metadata": {},
   "source": [
    "# Clase 3 - \"Numbers\""
   ]
  },
  {
   "cell_type": "markdown",
   "metadata": {},
   "source": [
    "## Funciones y métodos para interactuar con números\n",
    "\n",
    "### Métodos comunes para todos los tipos numéricos: \n",
    "-  abs() : Devuelve el valor absoluto del número. \n",
    "-  round() : Redondea el número al entero más cercano. \n",
    "-  int() : Convierte el número a un entero. \n",
    "-  float() : Convierte el número a un número de punto flotante. \n",
    "-  complex() : Convierte el número a un número complejo. \n",
    "-  divmod(x, y) : Devuelve el cociente y el resto de la división de x entre y como una tupla. \n",
    "-  pow(x, y) : Eleva x a la potencia y. \n",
    "-  max(iterable) : Devuelve el valor máximo en el iterable. \n",
    "-  min(iterable) : Devuelve el valor mínimo en el iterable. \n",
    "-  sum(iterable) : Devuelve la suma de todos los elementos en el iterable. "
   ]
  },
  {
   "cell_type": "code",
   "execution_count": 2,
   "metadata": {},
   "outputs": [
    {
     "name": "stdout",
     "output_type": "stream",
     "text": [
      "Valor absoluto de -10.5: 10.5\n",
      "Número redondeado de -10.5: -10\n",
      "Número entero de -10.5: -10\n",
      "Número de punto flotante de -10: -10.0\n",
      "Número complejo de -10.0 y -10: (-10-10j)\n",
      "Cociente y resto de 10 dividido por 3: (3, 1)\n",
      "2 elevado a la potencia 3: 8\n",
      "Valor máximo: 9\n",
      "Valor mínimo: 1\n",
      "Suma de los elementos: 15\n"
     ]
    }
   ],
   "source": [
    "# Métodos comunes para todos los tipos numéricos\n",
    "num = -10.5\n",
    " # abs(): Devuelve el valor absoluto del número\n",
    "abs_num = abs(num)\n",
    "print(f\"Valor absoluto de {num}: {abs_num}\")\n",
    " # round(): Redondea el número al entero más cercano\n",
    "rounded_num = round(num)\n",
    "print(f\"Número redondeado de {num}: {rounded_num}\")\n",
    " # int(): Convierte el número a un entero\n",
    "int_num = int(num)\n",
    "print(f\"Número entero de {num}: {int_num}\")\n",
    " # float(): Convierte el número a un número de punto flotante\n",
    "float_num = float(int_num)\n",
    "print(f\"Número de punto flotante de {int_num}: {float_num}\")\n",
    " # complex(): Convierte el número a un número complejo\n",
    "complex_num = complex(float_num, int_num)\n",
    "print(f\"Número complejo de {float_num} y {int_num}: {complex_num}\")\n",
    " # divmod(x, y): Devuelve el cociente y el resto de la división de x entre y como una tupla\n",
    "divmod_result = divmod(10, 3)\n",
    "print(f\"Cociente y resto de 10 dividido por 3: {divmod_result}\")\n",
    " # pow(x, y): Eleva x a la potencia y\n",
    "power_result = pow(2, 3)\n",
    "print(f\"2 elevado a la potencia 3: {power_result}\")\n",
    " # max(iterable): Devuelve el valor máximo en el iterable\n",
    "max_value = max([5, 2, 9, 1])\n",
    "print(f\"Valor máximo: {max_value}\")\n",
    " # min(iterable): Devuelve el valor mínimo en el iterable\n",
    "min_value = min([5, 2, 9, 1])\n",
    "print(f\"Valor mínimo: {min_value}\")\n",
    " # sum(iterable): Devuelve la suma de todos los elementos en el iterable\n",
    "sum_result = sum([1, 2, 3, 4, 5])\n",
    "print(f\"Suma de los elementos: {sum_result}\")"
   ]
  },
  {
   "cell_type": "markdown",
   "metadata": {},
   "source": [
    "### Métodos específicos para enteros ( int ): \n",
    "-  bit_length() : Devuelve el número mínimo de bits necesarios para representar el entero. \n",
    "-  to_bytes(length, byteorder) : Convierte el entero en una secuencia de bytes. \n",
    "-  from_bytes(bytes, byteorder) : Convierte una secuencia de bytes en un entero. \n",
    "-  conjugate() : Devuelve el conjugado complejo del entero. "
   ]
  },
  {
   "cell_type": "code",
   "execution_count": 3,
   "metadata": {},
   "outputs": [
    {
     "name": "stdout",
     "output_type": "stream",
     "text": [
      "Número mínimo de bits necesarios para representar 10: 4\n",
      "Representación en bytes de 10: b'\\x00\\n'\n",
      "Entero obtenido a partir de la representación en bytes: 10\n"
     ]
    }
   ],
   "source": [
    " # Métodos específicos para enteros (int)\n",
    "integer_num = 10\n",
    " # bit_length(): Devuelve el número mínimo de bits necesarios para representar el entero\n",
    "bit_length = integer_num.bit_length()\n",
    "print(f\"Número mínimo de bits necesarios para representar {integer_num}: {bit_length}\")\n",
    " # to_bytes(length, byteorder): Convierte el entero en una secuencia de bytes\n",
    "bytes_representation = integer_num.to_bytes(2, byteorder='big')\n",
    "print(f\"Representación en bytes de {integer_num}: {bytes_representation}\")\n",
    " # from_bytes(bytes, byteorder): Convierte una secuencia de bytes en un entero\n",
    "integer_from_bytes = int.from_bytes(bytes_representation, byteorder='big')\n",
    "print(f\"Entero obtenido a partir de la representación en bytes: {integer_from_bytes}\")"
   ]
  },
  {
   "cell_type": "markdown",
   "metadata": {},
   "source": [
    "### Métodos específicos para números de punto flotante ( float ): \n",
    "-  is_integer() : Comprueba si el número es un entero. \n",
    "-  as_integer_ratio() : Devuelve una tupla que representa el número como una fracción. \n",
    "-  hex() : Devuelve la representación hexadecimal del número. \n",
    "-  is_integer() : Comprueba si el número es un entero. \n",
    "-  as_integer_ratio() : Devuelve una tupla que representa el número como una fracción. \n",
    "-  hex() : Devuelve la representación hexadecimal del número. \n",
    "-  is_integer() : Comprueba si el número es un entero. \n",
    "-  as_integer_ratio() : Devuelve una tupla que representa el número como una fracción. \n",
    "-  hex() : Devuelve la representación hexadecimal del número. "
   ]
  },
  {
   "cell_type": "code",
   "execution_count": 4,
   "metadata": {},
   "outputs": [
    {
     "name": "stdout",
     "output_type": "stream",
     "text": [
      "¿Es 3.14 un número entero?: False\n",
      "Fracción que representa a 3.14: (7070651414971679, 2251799813685248)\n",
      "Representación hexadecimal de 3.14: 0x1.91eb851eb851fp+1\n"
     ]
    }
   ],
   "source": [
    " # Métodos específicos para números de punto flotante (float)\n",
    "float_num = 3.14\n",
    " # is_integer(): Comprueba si el número es un entero\n",
    "is_integer = float_num.is_integer()\n",
    "print(f\"¿Es {float_num} un número entero?: {is_integer}\")\n",
    " # as_integer_ratio(): Devuelve una tupla que representa el número como una fracción\n",
    "fraction = float_num.as_integer_ratio()\n",
    "print(f\"Fracción que representa a {float_num}: {fraction}\")\n",
    " # hex(): Devuelve la representación hexadecimal del número\n",
    "hex_representation = float_num.hex()\n",
    "print(f\"Representación hexadecimal de {float_num}: {hex_representation}\")"
   ]
  }
 ],
 "metadata": {
  "kernelspec": {
   "display_name": "Python 3",
   "language": "python",
   "name": "python3"
  },
  "language_info": {
   "codemirror_mode": {
    "name": "ipython",
    "version": 3
   },
   "file_extension": ".py",
   "mimetype": "text/x-python",
   "name": "python",
   "nbconvert_exporter": "python",
   "pygments_lexer": "ipython3",
   "version": "3.11.4"
  },
  "orig_nbformat": 4
 },
 "nbformat": 4,
 "nbformat_minor": 2
}
