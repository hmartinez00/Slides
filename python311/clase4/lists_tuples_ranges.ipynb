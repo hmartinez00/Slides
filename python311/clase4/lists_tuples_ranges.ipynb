{
 "cells": [
  {
   "cell_type": "markdown",
   "metadata": {},
   "source": [
    "Aquí tienes una lista exhaustiva de las funciones y métodos que se aplican a las listas, tuplas y rangos en Python según la documentación oficial:\n",
    "\n",
    "Funciones aplicables a listas y tuplas:\n",
    "- len(seq): Devuelve la longitud de la secuencia.\n",
    "- max(seq): Devuelve el elemento máximo de la secuencia.\n",
    "- min(seq): Devuelve el elemento mínimo de la secuencia.\n",
    "- sum(seq): Devuelve la suma de los elementos de la secuencia.\n",
    "- sorted(seq, key=None, reverse=False): Devuelve una nueva secuencia ordenada.\n",
    "- reversed(seq): Devuelve un iterador que recorre la secuencia en orden inverso."
   ]
  },
  {
   "cell_type": "code",
   "execution_count": 2,
   "metadata": {},
   "outputs": [
    {
     "name": "stdout",
     "output_type": "stream",
     "text": [
      "Longitud de la secuencia: 5\n",
      "Valor máximo de la secuencia: 5\n",
      "Valor mínimo de la secuencia: 1\n",
      "Suma de los elementos de la secuencia: 15\n",
      "Secuencia ordenada: [1, 2, 3, 4, 5]\n",
      "Secuencia en orden inverso: [5, 4, 3, 2, 1]\n"
     ]
    }
   ],
   "source": [
    "# Funciones aplicables a listas y tuplas\n",
    "seq = [1, 2, 3, 4, 5]\n",
    " # len(seq)\n",
    "longitud = len(seq)\n",
    "print(\"Longitud de la secuencia:\", longitud)  # Salida: 5\n",
    " # max(seq)\n",
    "maximo = max(seq)\n",
    "print(\"Valor máximo de la secuencia:\", maximo)  # Salida: 5\n",
    " # min(seq)\n",
    "minimo = min(seq)\n",
    "print(\"Valor mínimo de la secuencia:\", minimo)  # Salida: 1\n",
    " # sum(seq)\n",
    "suma = sum(seq)\n",
    "print(\"Suma de los elementos de la secuencia:\", suma)  # Salida: 15\n",
    " # sorted(seq, key=None, reverse=False)\n",
    "secuencia_ordenada = sorted(seq)\n",
    "print(\"Secuencia ordenada:\", secuencia_ordenada)  # Salida: [1, 2, 3, 4, 5]\n",
    " # reversed(seq)\n",
    "secuencia_inversa = reversed(seq)\n",
    "print(\"Secuencia en orden inverso:\", list(secuencia_inversa))  # Salida: [5, 4, 3, 2, 1]"
   ]
  },
  {
   "cell_type": "markdown",
   "metadata": {},
   "source": [
    "Métodos aplicables a listas:\n",
    "- list.append(x): Agrega un elemento al final de la lista.\n",
    "- list.extend(iterable): Agrega los elementos de un iterable al final de la lista.\n",
    "- list.insert(i, x): Inserta un elemento en una posición específica.\n",
    "- list.remove(x): Elimina la primera aparición del elemento de la lista.\n",
    "- list.pop([i]): Elimina y devuelve el elemento en la posición especificada.\n",
    "- list.index(x[, start[, end]]): Devuelve el índice de la primera aparición del elemento.\n",
    "- list.count(x): Devuelve el número de veces que aparece el elemento en la lista.\n",
    "- list.sort(key=None, reverse=False): Ordena la lista en su lugar.\n",
    "- list.reverse(): Invierte el orden de los elementos en la lista.\n",
    "- list.copy(): Devuelve una copia superficial de la lista.\n",
    " Métodos aplicables a tuplas:\n",
    "- tuple.count(x): Devuelve el número de veces que aparece el elemento en la tupla.\n",
    "- tuple.index(x[, start[, end]]): Devuelve el índice de la primera aparición del elemento."
   ]
  },
  {
   "cell_type": "code",
   "execution_count": 3,
   "metadata": {},
   "outputs": [
    {
     "name": "stdout",
     "output_type": "stream",
     "text": [
      "Lista después de agregar un elemento: [1, 2, 3, 4]\n",
      "Lista después de extenderla: [1, 2, 3, 4, 5, 6]\n",
      "Lista después de insertar un elemento: [0, 1, 2, 3, 4, 5, 6]\n",
      "Lista después de eliminar un elemento: [1, 2, 3, 4, 5, 6]\n",
      "Elemento eliminado de la lista: 3\n",
      "Lista después de eliminar un elemento en la posición 2: [1, 2, 4, 5, 6]\n",
      "Índice del elemento 4 en la lista: 2\n",
      "Número de veces que aparece el elemento 5 en la lista: 1\n",
      "Lista ordenada: [1, 2, 4, 5, 6]\n",
      "Lista en orden inverso: [6, 5, 4, 2, 1]\n",
      "Copia superficial de la lista: [6, 5, 4, 2, 1]\n",
      "Número de veces que aparece el elemento 2 en la tupla: 1\n",
      "Índice del elemento 3 en la tupla: 2\n"
     ]
    }
   ],
   "source": [
    " # Métodos aplicables a listas\n",
    "lista = [1, 2, 3]\n",
    " # list.append(x)\n",
    "lista.append(4)\n",
    "print(\"Lista después de agregar un elemento:\", lista)  # Salida: [1, 2, 3, 4]\n",
    " # list.extend(iterable)\n",
    "lista.extend([5, 6])\n",
    "print(\"Lista después de extenderla:\", lista)  # Salida: [1, 2, 3, 4, 5, 6]\n",
    " # list.insert(i, x)\n",
    "lista.insert(0, 0)\n",
    "print(\"Lista después de insertar un elemento:\", lista)  # Salida: [0, 1, 2, 3, 4, 5, 6]\n",
    " # list.remove(x)\n",
    "lista.remove(0)\n",
    "print(\"Lista después de eliminar un elemento:\", lista)  # Salida: [1, 2, 3, 4, 5, 6]\n",
    " # list.pop([i])\n",
    "elemento_eliminado = lista.pop(2)\n",
    "print(\"Elemento eliminado de la lista:\", elemento_eliminado)  # Salida: 3\n",
    "print(\"Lista después de eliminar un elemento en la posición 2:\", lista)  # Salida: [1, 2, 4, 5, 6]\n",
    " # list.index(x[, start[, end]])\n",
    "indice = lista.index(4)\n",
    "print(\"Índice del elemento 4 en la lista:\", indice)  # Salida: 2\n",
    " # list.count(x)\n",
    "conteo = lista.count(5)\n",
    "print(\"Número de veces que aparece el elemento 5 en la lista:\", conteo)  # Salida: 1\n",
    " # list.sort(key=None, reverse=False)\n",
    "lista.sort()\n",
    "print(\"Lista ordenada:\", lista)  # Salida: [1, 2, 4, 5, 6]\n",
    " # list.reverse()\n",
    "lista.reverse()\n",
    "print(\"Lista en orden inverso:\", lista)  # Salida: [6, 5, 4, 2, 1]\n",
    " # list.copy()\n",
    "copia_lista = lista.copy()\n",
    "print(\"Copia superficial de la lista:\", copia_lista)  # Salida: [6, 5, 4, 2, 1]\n",
    " # Métodos aplicables a tuplas\n",
    "tupla = (1, 2, 3)\n",
    " # tuple.count(x)\n",
    "conteo = tupla.count(2)\n",
    "print(\"Número de veces que aparece el elemento 2 en la tupla:\", conteo)  # Salida: 1\n",
    " # tuple.index(x[, start[, end]])\n",
    "indice = tupla.index(3)\n",
    "print(\"Índice del elemento 3 en la tupla:\", indice)  # Salida: 2"
   ]
  },
  {
   "cell_type": "markdown",
   "metadata": {},
   "source": [
    "Métodos aplicables a rangos:\n",
    "- range.start: Devuelve el valor de inicio del rango.\n",
    "- range.stop: Devuelve el valor de parada del rango.\n",
    "- range.step: Devuelve el valor del paso del rango.\n",
    " Recuerda que esta lista es exhaustiva según la documentación oficial de Python, pero siempre es recomendable consultar la documentación para obtener información más detallada y actualizada."
   ]
  },
  {
   "cell_type": "code",
   "execution_count": 4,
   "metadata": {},
   "outputs": [
    {
     "name": "stdout",
     "output_type": "stream",
     "text": [
      "Valor de inicio del rango: 1\n",
      "Valor de parada del rango: 6\n",
      "Valor de paso del rango: 1\n"
     ]
    }
   ],
   "source": [
    " # Métodos aplicables a rangos\n",
    "rango = range(1, 6)\n",
    " # range.start\n",
    "inicio = rango.start\n",
    "print(\"Valor de inicio del rango:\", inicio)  # Salida: 1\n",
    " # range.stop\n",
    "parada = rango.stop\n",
    "print(\"Valor de parada del rango:\", parada)  # Salida: 6\n",
    " # range.step\n",
    "paso = rango.step\n",
    "print(\"Valor de paso del rango:\", paso)  # Salida: 1"
   ]
  }
 ],
 "metadata": {
  "kernelspec": {
   "display_name": "Python 3",
   "language": "python",
   "name": "python3"
  },
  "language_info": {
   "codemirror_mode": {
    "name": "ipython",
    "version": 3
   },
   "file_extension": ".py",
   "mimetype": "text/x-python",
   "name": "python",
   "nbconvert_exporter": "python",
   "pygments_lexer": "ipython3",
   "version": "3.11.4"
  },
  "orig_nbformat": 4
 },
 "nbformat": 4,
 "nbformat_minor": 2
}
