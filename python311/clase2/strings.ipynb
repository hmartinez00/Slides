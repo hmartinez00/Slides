{
 "cells": [
  {
   "cell_type": "markdown",
   "metadata": {},
   "source": [
    "# Clase 2 - Strings en Python\n",
    "\n",
    "> **Definición:** \n",
    "\n",
    "En Python, las cadenas de caracteres (strings) son consideradas como objetos. Son instancias de la clase  str , lo que significa que tienen métodos y atributos asociados a ellas. Esto permite que se puedan manipular y formatear utilizando los métodos proporcionados por la clase  str . \n",
    "\n",
    "Además, las cadenas de caracteres en Python son inmutables, lo que significa que no se pueden modificar directamente. Sin embargo, se pueden realizar operaciones con ellas, como concatenación (+), repetición (*), indexación y segmentación."
   ]
  },
  {
   "cell_type": "markdown",
   "metadata": {},
   "source": [
    "## 1. Construcción\n",
    "En Python las cadenas se construyen de maneras muy sencilla:\n",
    "\n",
    "- `\"` Con comillas dobles\n",
    "- `'` Con comillas simples\n",
    "\n",
    "### Asignación y presentación\n",
    "Luego podemos asignarla a variables para reutilizarlas posteriormente."
   ]
  },
  {
   "cell_type": "code",
   "execution_count": 2,
   "metadata": {},
   "outputs": [],
   "source": [
    "cadena1 = \"Hola\"    #Con comillas dobles\n",
    "cadena2 = 'Mundo'   #Con comillas simples"
   ]
  },
  {
   "cell_type": "markdown",
   "metadata": {},
   "source": [
    "Las presentaremos mediante la función `print()` la cual es una función de la biblioteca estándar de Python:"
   ]
  },
  {
   "cell_type": "code",
   "execution_count": 2,
   "metadata": {},
   "outputs": [
    {
     "name": "stdout",
     "output_type": "stream",
     "text": [
      "Hola\n",
      "Mundo\n"
     ]
    }
   ],
   "source": [
    "print(cadena1)\n",
    "print(cadena2)"
   ]
  },
  {
   "cell_type": "markdown",
   "metadata": {},
   "source": [
    "También será posible presentarlas pasándolas como parámetros de una sola función `print` separadas por \"comas\":"
   ]
  },
  {
   "cell_type": "code",
   "execution_count": 3,
   "metadata": {},
   "outputs": [
    {
     "name": "stdout",
     "output_type": "stream",
     "text": [
      "Hola Mundo\n"
     ]
    }
   ],
   "source": [
    "print(cadena1, cadena2)"
   ]
  },
  {
   "cell_type": "markdown",
   "metadata": {},
   "source": [
    "### Cadenas multilínea\n",
    "\n",
    "Así mismo, es factible crear cadenas multilínea de la siguiente forma:"
   ]
  },
  {
   "cell_type": "code",
   "execution_count": 4,
   "metadata": {},
   "outputs": [
    {
     "name": "stdout",
     "output_type": "stream",
     "text": [
      "Esta es una sola cadena\n",
      "con varias lineas, las cuales son muy útiles\n",
      "y pueden servir para redactar comentarios elaborados.\n",
      "\n",
      "Se pueden construir tanto con comillas simples y dobles.\n"
     ]
    }
   ],
   "source": [
    "multilinea = '''Esta es una sola cadena\n",
    "con varias lineas, las cuales son muy útiles\n",
    "y pueden servir para redactar comentarios elaborados.\n",
    "\n",
    "Se pueden construir tanto con comillas simples y dobles.'''\n",
    "print(multilinea)"
   ]
  },
  {
   "cell_type": "markdown",
   "metadata": {},
   "source": [
    "## 2. Operaciones con strings"
   ]
  },
  {
   "cell_type": "markdown",
   "metadata": {},
   "source": [
    "### Operaciones Básicas:\n",
    "\n",
    "   - Concatenación de cadenas:  `+` \n",
    "   - Repetición de cadenas:  `*` \n",
    "   - Comparación de cadenas: \n",
    "      - Igualdad: `==` \n",
    "      - Desigualdad: `!=` "
   ]
  },
  {
   "cell_type": "code",
   "execution_count": 8,
   "metadata": {},
   "outputs": [
    {
     "name": "stdout",
     "output_type": "stream",
     "text": [
      "Concatenacion de cadenas: Hola Mundo\n",
      "Repeticion de cadenas: Hola MundoHola MundoHola Mundo\n",
      "¿Las cadenas son iguales?  False\n",
      "¿Las cadenas son diferentes?  True\n"
     ]
    }
   ],
   "source": [
    "cadena = cadena1 + \" \" + cadena2\n",
    "print('Concatenacion de cadenas:', cadena)\n",
    "repetida = cadena * 3\n",
    "print('Repeticion de cadenas:', repetida)\n",
    "\n",
    "# Comparacion:\n",
    "# - Igualdad\n",
    "print('¿Las cadenas son iguales? ', cadena1 == cadena2)\n",
    "# - Desigualdad\n",
    "print('¿Las cadenas son diferentes? ', cadena1 != cadena2)\n"
   ]
  },
  {
   "cell_type": "markdown",
   "metadata": {},
   "source": [
    "### Otras operaciones:\n",
    "\n",
    "   - Indexación:  `[]` \n",
    "   - Slicing:  `[:]` \n",
    "   - Verificación de pertenencia:  `in` ,  `not in` "
   ]
  },
  {
   "cell_type": "code",
   "execution_count": 4,
   "metadata": {},
   "outputs": [
    {
     "name": "stdout",
     "output_type": "stream",
     "text": [
      "Indexacion: H\n",
      "Slicing: Hola\n"
     ]
    },
    {
     "data": {
      "text/plain": [
       "True"
      ]
     },
     "execution_count": 4,
     "metadata": {},
     "output_type": "execute_result"
    }
   ],
   "source": [
    "primer_caracter = cadena[0]\n",
    "print('Indexacion:', primer_caracter)\n",
    "subcadena = cadena[0:4]\n",
    "print('Slicing:', subcadena)\n",
    "\n",
    "###    - Verificación de pertenencia:  `in` ,  `not in` \n",
    "\"Mundo\" in cadena"
   ]
  },
  {
   "cell_type": "markdown",
   "metadata": {},
   "source": [
    "##  3. Secuencias de escape:\n",
    "\n",
    " Existen varias secuencias de escape en Python que se utilizan para representar caracteres especiales. Algunas de las más comunes son:   \n",
    "- `\\n`: nueva línea \n",
    "- `\\r`: retorno de carro \n",
    "- `\\t`: tabulación horizontal \n",
    "- `\\b`: retroceso \n",
    "- `\\f`: avance de página \n",
    "- `\\'`: comilla simple \n",
    "- `\\\"`: comilla doble \n",
    "- `\\\\`: barra invertida \n",
    "- `\\a`: timbre o alerta \n",
    "- `\\v`: tabulación vertical \n",
    "- `\\ooo`: valor octal (reemplaza ooo por un número octal) \n",
    "- `\\xhh`: valor hexadecimal (reemplaza hh por un número hexadecimal de dos dígitos) \n",
    "- `\\uhhhh`: valor Unicode de 16 bits (reemplaza hhhh por un número hexadecimal de cuatro dígitos) \n",
    "- `\\Uhhhhhhhh`: valor Unicode de 32 bits (reemplaza hhhhhhhh por un número hexadecimal de ocho dígitos) \n",
    "Estas secuencias de escape se utilizan para representar caracteres que de otra manera serían difíciles de incluir en una cadena de texto."
   ]
  },
  {
   "cell_type": "code",
   "execution_count": 6,
   "metadata": {},
   "outputs": [
    {
     "name": "stdout",
     "output_type": "stream",
     "text": [
      "Hola\n",
      "Mundo\n",
      "Mundo\n",
      "Hola\tMundo\n",
      "HolMundo\n",
      "Hola\fMundo\n",
      "Hola'Mundo\n",
      "Hola\"Mundo\n",
      "Hola\\Mundo\n",
      "\u0007Hola Mundo\n",
      "Hola\u000bMundo\n",
      "S\n",
      "Hola\n",
      "©\n",
      "😀\n"
     ]
    }
   ],
   "source": [
    "print(\"Hola\\nMundo\")  # Salida: \n",
    "print(\"Hola\\rMundo\")  # Salida: Mundo\n",
    "print(\"Hola\\tMundo\")  # Salida: Hola     Mundo\n",
    "print(\"Hola\\bMundo\")  # Salida: HolMundo\n",
    "print(\"Hola\\fMundo\")  # Salida: \n",
    "print('Hola\\'Mundo')  # Salida: Hola'Mundo\n",
    "print(\"Hola\\\"Mundo\")  # Salida: Hola\"Mundo\n",
    "print(\"Hola\\\\Mundo\")  # Salida: Hola\\Mundo\n",
    "print(\"\\aHola Mundo\")  # Salida: (Sonido de alerta) Hola Mundo\n",
    "print(\"Hola\\vMundo\")  # Salida: \n",
    "print(\"\\123\")  # Salida: S\n",
    "print(\"\\x48\\x6f\\x6c\\x61\")  # Salida: Hola\n",
    "print(\"\\u00A9\")  # Salida: ©\n",
    "print(\"\\U0001F600\")  # Salida: 😀"
   ]
  },
  {
   "cell_type": "markdown",
   "metadata": {},
   "source": [
    "## 4. Métodos de manipulación:\n",
    "\n",
    "   -  `capitalize()` : Convierte el primer carácter en mayúscula y el resto en minúsculas.\n",
    "   -  `casefold()` : Devuelve una versión en minúsculas de la cadena.\n",
    "   -  `center(width[, fillchar])` : Devuelve una cadena centrada en un ancho dado.\n",
    "   -  `count(sub[, start[, end]])` : Devuelve el número de ocurrencias de una subcadena.\n",
    "   -  `encode([encoding[, errors]])` : Devuelve una versión codificada de la cadena.\n",
    "   -  `endswith(suffix[, start[, end]])` : Verifica si la cadena termina con una subcadena dada.\n",
    "   -  `expandtabs([tabsize])` : Reemplaza los caracteres de tabulación con espacios.\n",
    "   -  `find(sub[, start[, end]])` : Devuelve el índice de la primera ocurrencia de una subcadena.\n",
    "   -  `format(*args, **kwargs)` : Formatea la cadena con valores variables.\n",
    "   -  `index(sub[, start[, end]])` : Devuelve el índice de la primera ocurrencia de una subcadena (lanza una excepción si no se encuentra).\n",
    "   -  `isalnum()` : Verifica si la cadena contiene solo caracteres alfanuméricos.\n",
    "   -  `isalpha()` : Verifica si la cadena contiene solo letras.\n",
    "   -  `isdecimal()` : Verifica si la cadena contiene solo dígitos decimales.\n",
    "   -  `isdigit()` : Verifica si la cadena contiene solo dígitos.\n",
    "   -  `isidentifier()` : Verifica si la cadena es un identificador válido.\n",
    "   -  `islower()` : Verifica si la cadena contiene solo caracteres en minúsculas.\n",
    "   -  `isnumeric()` : Verifica si la cadena contiene solo caracteres numéricos.\n",
    "   -  `isprintable()` : Verifica si todos los caracteres de la cadena son imprimibles.\n",
    "   -  `isspace()` : Verifica si la cadena contiene solo espacios en blanco.\n",
    "   -  `istitle()` : Verifica si la cadena sigue el formato de título.\n",
    "   -  `isupper()` : Verifica si la cadena contiene solo caracteres en mayúsculas.\n",
    "   -  `join(iterable)` : Une los elementos de un iterable con la cadena como separador.\n",
    "   -  `ljust(width[, fillchar])` : Devuelve una cadena justificada a la izquierda en un ancho dado.\n",
    "   -  `lower()` : Devuelve una versión en minúsculas de la cadena.\n",
    "   -  `lstrip([chars])` : Elimina los caracteres iniciales de la cadena.\n",
    "   -  `maketrans(x[, y[, z]])` : Devuelve una tabla de traducción para usar con el método  `translate()` .\n",
    "   -  `partition(sep)` : Divide la cadena en una tupla basada en la primera aparición de una subcadena.\n",
    "   -  `replace(old, new[, count])` : Reemplaza todas las apariciones de una subcadena con otra.\n",
    "   -  `rfind(sub[, start[, end]])` : Devuelve el índice de la última ocurrencia de una subcadena.\n",
    "   -  `rindex(sub[, start[, end]])` : Devuelve el índice de la última ocurrencia de una subcadena (lanza una excepción si no se encuentra).\n",
    "   -  `rjust(width[, fillchar])` : Devuelve una cadena justificada a la derecha en un ancho dado.\n",
    "   -  `rpartition(sep)` : Divide la cadena en una tupla basada en la última aparición de una subcadena.\n",
    "   -  `rsplit([sep[, maxsplit]])` : Divide la cadena en una lista de subcadenas a partir de la derecha.\n",
    "   -  `rstrip([chars])` : Elimina los caracteres finales de la cadena.\n",
    "   -  `split([sep[, maxsplit]])` : Divide la cadena en una lista de subcadenas.\n",
    "   -  `splitlines([keepends])` : Divide la cadena en una lista de líneas.\n",
    "   -  `startswith(prefix[, start[, end]])` : Verifica si la cadena comienza con una subcadena dada.\n",
    "   -  `strip([chars])` : Elimina los caracteres iniciales y finales de la cadena.\n",
    "   -  `swapcase()` : Intercambia mayúsculas y minúsculas en la cadena.\n",
    "   -  `title()` : Devuelve una versión en formato de título de la cadena.\n",
    "   -  `translate(table)` : Devuelve una copia de la cadena traducida según una tabla de traducción.\n",
    "   -  `upper()` : Devuelve una versión en mayúsculas de la cadena.\n",
    "   -  `zfill(width)` : Rellena la cadena con ceros a la izquierda hasta alcanzar un ancho dado."
   ]
  },
  {
   "cell_type": "code",
   "execution_count": 7,
   "metadata": {},
   "outputs": [
    {
     "name": "stdout",
     "output_type": "stream",
     "text": [
      "capitalize: Hola mundo\n",
      "casefold: hola mundo\n",
      "center: ---hola---\n",
      "count: 2\n",
      "encode: b'hola'\n",
      "endswith: True\n",
      "expandtabs: holamundo\n",
      "find: 5\n",
      "format: Hola Mundo, ¿cómo estás?\n",
      "index: 5\n",
      "isalnum: True\n",
      "isalpha: True\n",
      "isdecimal: True\n",
      "isdigit: True\n",
      "isidentifier: True\n",
      "islower: True\n",
      "isnumeric: True\n",
      "isprintable: True\n",
      "isspace: True\n",
      "istitle: True\n",
      "isupper: True\n",
      "join: hola-mundo\n",
      "ljust: hola------\n",
      "lower: hola\n",
      "lstrip: hola mundo\n",
      "partition: h4l1 m5nd4\n",
      "replace: ('hola', ' ', 'mundo')\n",
      "rfind: adios mundo\n",
      "rindex: 11\n",
      "rjust: 11\n",
      "rpartition: ------hola\n",
      "rsplit: ('hola mundo ', 'mundo', '')\n",
      "rstrip: ['hola', 'mundo', 'mundo']\n",
      "split: hola mundo\n",
      "splitlines: ['hola', 'mundo', 'mundo']\n",
      "startswith: ['hola', 'mundo']\n",
      "strip: True\n",
      "swapcase: hola mundo\n",
      "title: HoLa mUnDo\n",
      "translate: Hola Mundo\n",
      "upper: HOLA\n",
      "zfill: 000000hola\n"
     ]
    }
   ],
   "source": [
    "print('capitalize:', \"hola mundo\".capitalize())  # Salida: Hola mundo\n",
    "print('casefold:', \"HOLA MUNDO\".casefold())  # Salida: hola mundo\n",
    "print('center:', \"hola\".center(10, '-'))  # Salida: --hola---\n",
    "print('count:', \"hola mundo\".count('o'))  # Salida: 2\n",
    "print('encode:', \"hola\".encode('utf-8'))  # Salida: b'hola'\n",
    "print('endswith:', \"hola\".endswith('a'))  # Salida: True\n",
    "print('expandtabs:', \"holamundo\".expandtabs(10))  # Salida: hola      mundo\n",
    "print('find:', \"hola mundo\".find('mundo'))  # Salida: 5\n",
    "print('format:', \"Hola {}, ¿cómo estás?\".format(\"Mundo\"))  # Salida: Hola Mundo, ¿cómo estás?\n",
    "print('index:', \"hola mundo\".index('mundo'))  # Salida: 5\n",
    "print('isalnum:', \"hola123\".isalnum())  # Salida: True\n",
    "print('isalpha:', \"hola\".isalpha())  # Salida: True\n",
    "print('isdecimal:', \"123\".isdecimal())  # Salida: True\n",
    "print('isdigit:', \"123\".isdigit())  # Salida: True\n",
    "print('isidentifier:', \"hola\".isidentifier())  # Salida: True\n",
    "print('islower:', \"hola\".islower())  # Salida: True\n",
    "print('isnumeric:', \"123\".isnumeric())  # Salida: True\n",
    "print('isprintable:', \"hola mundo\".isprintable())  # Salida: True\n",
    "print('isspace:', \"   \".isspace())  # Salida: True\n",
    "print('istitle:', \"Hola Mundo\".istitle())  # Salida: True\n",
    "print('isupper:', \"HOLA\".isupper())  # Salida: True\n",
    "print('join:', \"-\".join([\"hola\", \"mundo\"]))  # Salida: hola-mundo\n",
    "print('ljust:', \"hola\".ljust(10, '-'))  # Salida: hola------\n",
    "print('lower:', \"HOLA\".lower())  # Salida: hola\n",
    "print('lstrip:', \"   hola mundo\".lstrip())  # Salida: hola mundo\n",
    "trans = str.maketrans('aeiou', '12345')\n",
    "print('partition:', \"hola mundo\".translate(trans))  # Salida: h4l1 m5nd4\n",
    "print('replace:', \"hola mundo\".partition(' '))  # Salida: ('hola', ' ', 'mundo')\n",
    "print('rfind:', \"hola mundo\".replace('hola', 'adios'))  # Salida: adios mundo\n",
    "print('rindex:', \"hola mundo mundo\".rfind('mundo'))  # Salida: 10\n",
    "print('rjust:', \"hola mundo mundo\".rindex('mundo'))  # Salida: 10\n",
    "print('rpartition:', \"hola\".rjust(10, '-'))  # Salida: ------hola\n",
    "print('rsplit:', \"hola mundo mundo\".rpartition('mundo'))  # Salida: ('hola mundo ', 'mundo', '')\n",
    "print('rstrip:', \"hola mundo mundo\".rsplit(' '))  # Salida: ['hola', 'mundo', 'mundo']\n",
    "print('split:', \"hola mundo   \".rstrip())  # Salida: hola mundo\n",
    "print('splitlines:', \"hola mundo mundo\".split(' '))  # Salida: ['hola', 'mundo', 'mundo']\n",
    "print('startswith:', \"hola\\nmundo\".splitlines())  # Salida: ['hola', 'mundo']\n",
    "print('strip:', \"hola\".startswith('h'))  # Salida: True\n",
    "print('swapcase:', \"   hola mundo   \".strip())  # Salida: hola mundo\n",
    "print('title:', \"hOlA MuNdO\".swapcase())  # Salida: HoLa mUnDo\n",
    "print('translate:', \"hola mundo\".title())  # Salida: Hola Mundo\n",
    "print('upper:', \"hola\".upper())  # Salida: HOLA\n",
    "print('zfill:', \"hola\".zfill(10))  # Salida: 000000hola"
   ]
  },
  {
   "cell_type": "markdown",
   "metadata": {},
   "source": [
    "## 5. Formateo de cadenas:\n",
    "\n",
    "- El método  `.format()`  es una manera común de formatear cadenas en Python. Permite combinar valores variables con una cadena utilizando marcadores de posición.\n",
    "- Además del método  .format() , también hay otras formas de formatear cadenas en Python como:\n",
    "    - Método `f-string` (disponible a partir de Python 3.6).\n",
    "    - Método  `%`.\n",
    "\n",
    "Veamos algunos ejemplos:"
   ]
  },
  {
   "cell_type": "code",
   "execution_count": 8,
   "metadata": {},
   "outputs": [
    {
     "name": "stdout",
     "output_type": "stream",
     "text": [
      "Hola, mi nombre es Juan y tengo 25 años.\n",
      "Hola, mi nombre es Juan y tengo 25 años.\n",
      "Hola, mi nombre es Juan y tengo 25 años.\n"
     ]
    }
   ],
   "source": [
    "nombre = \"Juan\"\n",
    "edad = 25\n",
    "\n",
    "# Método format\n",
    "mensaje = \"Hola, mi nombre es {} y tengo {} años.\".format(nombre, edad)\n",
    "print(mensaje)\n",
    "\n",
    "# Método f-string\n",
    "mensaje = f\"Hola, mi nombre es {nombre} y tengo {edad} años.\"\n",
    "print(mensaje)\n",
    "# Método  % :\n",
    "mensaje = \"Hola, mi nombre es %s y tengo %d años.\" % (nombre, edad)\n",
    "print(mensaje)\n",
    "# \"%s\" y \"%d\" son marcadores de formato que se utilizan para insertar valores variables en una cadena de texto."
   ]
  },
  {
   "cell_type": "markdown",
   "metadata": {},
   "source": [
    "Aquí tienes una lista de los marcadores de formato más comunes en Python:\n",
    "- %s: utilizado para cadenas de caracteres (strings).\n",
    "- %d: utilizado para números enteros (integers).\n",
    "- %f: utilizado para números de punto flotante (floats).\n",
    "- %x: utilizado para números enteros en formato hexadecimal.\n",
    "- %o: utilizado para números enteros en formato octal.\n",
    "- %e: utilizado para números de punto flotante en notación científica.\n",
    "- %c: utilizado para caracteres individuales.\n",
    "- %r: utilizado para representaciones de cadenas de caracteres (strings) con comillas.\n",
    "- %i: utilizado para números enteros (integers) (similar a %d).\n",
    "- %u: utilizado para números enteros (integers) sin signo.\n",
    "- %g: utilizado para números de punto flotante (floats), elige automáticamente entre %f y %e según la longitud del número.\n",
    "- %%: utilizado para imprimir un signo de porcentaje (%).\n",
    " Estos marcadores de formato se utilizan en combinación con el operador de formato \"%\" o con el método de formato de cadenas \".format()\"."
   ]
  }
 ],
 "metadata": {
  "kernelspec": {
   "display_name": "Python 3",
   "language": "python",
   "name": "python3"
  },
  "language_info": {
   "codemirror_mode": {
    "name": "ipython",
    "version": 3
   },
   "file_extension": ".py",
   "mimetype": "text/x-python",
   "name": "python",
   "nbconvert_exporter": "python",
   "pygments_lexer": "ipython3",
   "version": "3.11.4"
  },
  "orig_nbformat": 4
 },
 "nbformat": 4,
 "nbformat_minor": 2
}
